{
  "nbformat": 4,
  "nbformat_minor": 0,
  "metadata": {
    "colab": {
      "name": "Demo_Data(PW).ipynb",
      "provenance": [],
      "mount_file_id": "1XguX7EhpvEq3ojQ5w-Wje72ckunafJEy",
      "authorship_tag": "ABX9TyOgiEoGWtkoTTkaw3V69o3H",
      "include_colab_link": true
    },
    "kernelspec": {
      "name": "python3",
      "display_name": "Python 3"
    },
    "language_info": {
      "name": "python"
    }
  },
  "cells": [
    {
      "cell_type": "markdown",
      "metadata": {
        "id": "view-in-github",
        "colab_type": "text"
      },
      "source": [
        "<a href=\"https://colab.research.google.com/github/AthithyaJB/AthithyaJB/blob/main/Demo_Data(PW).ipynb\" target=\"_parent\"><img src=\"https://colab.research.google.com/assets/colab-badge.svg\" alt=\"Open In Colab\"/></a>"
      ]
    },
    {
      "cell_type": "code",
      "execution_count": 1,
      "metadata": {
        "colab": {
          "base_uri": "https://localhost:8080/"
        },
        "id": "qyNuCcNDzpok",
        "outputId": "9a864cb9-72cb-410e-dd54-620e7d8bd994"
      },
      "outputs": [
        {
          "output_type": "stream",
          "name": "stdout",
          "text": [
            "Looking in indexes: https://pypi.org/simple, https://us-python.pkg.dev/colab-wheels/public/simple/\n",
            "Collecting XlsxWriter\n",
            "  Downloading XlsxWriter-3.0.3-py3-none-any.whl (149 kB)\n",
            "\u001b[K     |████████████████████████████████| 149 kB 5.3 MB/s \n",
            "\u001b[?25hInstalling collected packages: XlsxWriter\n",
            "Successfully installed XlsxWriter-3.0.3\n"
          ]
        }
      ],
      "source": [
        "pip install XlsxWriter"
      ]
    },
    {
      "cell_type": "code",
      "source": [
        "from google.colab import drive\n",
        "drive.mount('/content/drive')"
      ],
      "metadata": {
        "colab": {
          "base_uri": "https://localhost:8080/"
        },
        "id": "lEuvewplF1CL",
        "outputId": "b6cc8215-e1df-4033-cb34-f519af6df451"
      },
      "execution_count": 2,
      "outputs": [
        {
          "output_type": "stream",
          "name": "stdout",
          "text": [
            "Mounted at /content/drive\n"
          ]
        }
      ]
    },
    {
      "cell_type": "code",
      "source": [
        "from google.colab import drive\n",
        "drive.mount('/content/gdrive')"
      ],
      "metadata": {
        "colab": {
          "base_uri": "https://localhost:8080/"
        },
        "id": "NWaaD1lFCwAD",
        "outputId": "33241e42-3a59-41d6-a840-05593d5685fd"
      },
      "execution_count": 6,
      "outputs": [
        {
          "output_type": "stream",
          "name": "stdout",
          "text": [
            "Mounted at /content/gdrive\n"
          ]
        }
      ]
    },
    {
      "cell_type": "code",
      "source": [
        "from openpyxl import Workbook\n",
        "wb = Workbook()\n",
        "test_filename = 'test_workbook.xlsx'"
      ],
      "metadata": {
        "id": "ddkyrVUOowN-"
      },
      "execution_count": 3,
      "outputs": []
    },
    {
      "cell_type": "code",
      "source": [
        "wb.save('/content/gdrive/My Drive/'+test_filename)"
      ],
      "metadata": {
        "id": "TJAiiG7Do_iN"
      },
      "execution_count": 7,
      "outputs": []
    },
    {
      "cell_type": "code",
      "source": [
        "from openpyxl import load_workbook\n",
        "wb = load_workbook('/content/gdrive/My Drive/'+test_filename)"
      ],
      "metadata": {
        "id": "QJXCpnTKpbhM"
      },
      "execution_count": 8,
      "outputs": []
    },
    {
      "cell_type": "code",
      "source": [
        "import random\n",
        "import xlsxwriter\n",
        "import pandas as pd"
      ],
      "metadata": {
        "id": "7CV77WO7pj6s"
      },
      "execution_count": 9,
      "outputs": []
    },
    {
      "cell_type": "code",
      "source": [
        "Type_Event=['Live','External_Club','External_Standing']\n",
        "workbook = xlsxwriter.Workbook(\"/content/gdrive/MyDrive/test_workbook.xlsx\")\n",
        "worksheet=workbook.add_worksheet('DD')\n",
        "worksheet.write('A1','Date')\n",
        "worksheet.write('B1','Event Type')\n",
        "worksheet.write('C1','Attendees')\n",
        "worksheet.write('D1','SPH')\n",
        "worksheet.write('E1','Wet Sales Gross')\n",
        "worksheet.write('F1','Staff')\n",
        "worksheet.write('G1','Cost of Goods')\n",
        "\n",
        "rowIndex = 2\n",
        "def main():\n",
        "  rowIndex = 2\n",
        "  daterange = pd.date_range(start='2022-04-01',end='2022-04-30')\n",
        "  for single_date in daterange:\n",
        "    Date = single_date.strftime(\"%Y-%m-%d\")\n",
        "    Event_Type = random.choice((Type_Event))\n",
        "    Attendees = random.randint(10,35)\n",
        "    Spent_Per_Head = random.randint(10,100)\n",
        "    Wet_Sales_Gross = Attendees * Spent_Per_Head\n",
        "    Staff = random.randint(25,100)\n",
        "    Cost_of_Good = random.randint(1000,10000)\n",
        "    print(Date,Event_Type,Attendees,Spent_Per_Head,Wet_Sales_Gross,Staff,Cost_of_Good)\n",
        "\n",
        "    worksheet.write('A' + str(rowIndex), Date)\n",
        "    worksheet.write('B' + str(rowIndex),Event_Type)\n",
        "    worksheet.write('C' + str(rowIndex), Attendees)\n",
        "    worksheet.write('D' + str(rowIndex), Spent_Per_Head)\n",
        "    worksheet.write('E' + str(rowIndex), Wet_Sales_Gross)\n",
        "    worksheet.write('F' + str(rowIndex), Staff)\n",
        "    worksheet.write('G' + str(rowIndex), Cost_of_Good)\n",
        "    rowIndex += 1\n",
        "\n",
        "\n",
        "  workbook.close()    \n",
        "\n",
        "if __name__== \"__main__\":\n",
        "    main()"
      ],
      "metadata": {
        "colab": {
          "base_uri": "https://localhost:8080/"
        },
        "id": "Tan8E5GDpwAd",
        "outputId": "b13fb562-36a4-4c59-aef1-6de86505be7b"
      },
      "execution_count": 10,
      "outputs": [
        {
          "output_type": "stream",
          "name": "stdout",
          "text": [
            "2022-04-01 Live 21 49 1029 94 2783\n",
            "2022-04-02 External_Standing 24 51 1224 69 6193\n",
            "2022-04-03 External_Standing 19 87 1653 30 3716\n",
            "2022-04-04 External_Standing 30 48 1440 63 8236\n",
            "2022-04-05 External_Club 13 23 299 28 7106\n",
            "2022-04-06 External_Standing 15 70 1050 43 8551\n",
            "2022-04-07 Live 29 19 551 75 9469\n",
            "2022-04-08 External_Club 25 55 1375 97 6262\n",
            "2022-04-09 Live 17 70 1190 63 5660\n",
            "2022-04-10 External_Standing 33 59 1947 83 2432\n",
            "2022-04-11 External_Standing 16 95 1520 59 1514\n",
            "2022-04-12 External_Standing 11 64 704 57 7534\n",
            "2022-04-13 Live 33 39 1287 26 7682\n",
            "2022-04-14 Live 20 41 820 89 8480\n",
            "2022-04-15 External_Club 30 100 3000 70 3181\n",
            "2022-04-16 External_Standing 18 65 1170 28 9822\n",
            "2022-04-17 External_Standing 17 62 1054 77 3131\n",
            "2022-04-18 External_Standing 16 15 240 98 2961\n",
            "2022-04-19 External_Club 27 49 1323 63 4785\n",
            "2022-04-20 External_Club 27 17 459 41 8831\n",
            "2022-04-21 External_Club 27 93 2511 76 1006\n",
            "2022-04-22 Live 13 22 286 76 3873\n",
            "2022-04-23 Live 19 18 342 28 1131\n",
            "2022-04-24 Live 13 11 143 59 2058\n",
            "2022-04-25 External_Standing 19 23 437 64 5301\n",
            "2022-04-26 Live 16 80 1280 64 4530\n",
            "2022-04-27 External_Standing 19 40 760 32 2344\n",
            "2022-04-28 External_Club 22 90 1980 65 6452\n",
            "2022-04-29 External_Standing 27 14 378 47 9349\n",
            "2022-04-30 External_Standing 10 81 810 58 8800\n"
          ]
        }
      ]
    },
    {
      "cell_type": "code",
      "source": [
        ""
      ],
      "metadata": {
        "id": "nLT03aF8qyJ-"
      },
      "execution_count": null,
      "outputs": []
    }
  ]
}