{
  "cells": [
    {
      "cell_type": "markdown",
      "metadata": {
        "id": "view-in-github",
        "colab_type": "text"
      },
      "source": [
        "<a href=\"https://colab.research.google.com/github/AthithyaJB/AthithyaJB/blob/main/DP_Week02_Lab.ipynb\" target=\"_parent\"><img src=\"https://colab.research.google.com/assets/colab-badge.svg\" alt=\"Open In Colab\"/></a>"
      ]
    },
    {
      "cell_type": "markdown",
      "metadata": {
        "id": "kdcN-KFjRqqu"
      },
      "source": [
        "# Week 2 - Lab\n",
        "\n",
        "* Our **Task** for this week is to fit a polynomial curve to data. This is called **curve fitting** and has numerous applications in Data Science, Statistics and Machine Learning. We will solve curve fitting in two ways: the manual approach and one which is much easier using Automatic Differentiation. \n",
        "* This week will be the only time that we calculate the derivatives manually!\n",
        "* The Learning Outcome: Hands-on application of Automatic Differentiation."
      ]
    },
    {
      "cell_type": "markdown",
      "metadata": {
        "id": "tkhI28oNRqrJ"
      },
      "source": [
        "## Creating the data\n",
        "\n",
        "* Let us first create some data using a known function. We will use the **sinusoidal** function $y=f(x)=sin(x)$. \n",
        "    * x is the input to the function and y is the output of the function.\n",
        "* The following code generates and plots our data. "
      ]
    },
    {
      "cell_type": "code",
      "execution_count": 1,
      "metadata": {
        "id": "xpVkjebORqrN"
      },
      "outputs": [],
      "source": [
        "import torch\n",
        "import math\n",
        "import matplotlib.pyplot as plt\n",
        "%matplotlib inline"
      ]
    },
    {
      "cell_type": "code",
      "execution_count": 2,
      "metadata": {
        "colab": {
          "base_uri": "https://localhost:8080/",
          "height": 279
        },
        "id": "suhwdd3CRqrQ",
        "outputId": "31ea85bf-a40b-4113-86f5-5ae6c45c48ad",
        "scrolled": false
      },
      "outputs": [
        {
          "output_type": "display_data",
          "data": {
            "text/plain": [
              "<Figure size 432x288 with 1 Axes>"
            ],
            "image/png": "[encoded data removed]"
          },
          "metadata": {
            "needs_background": "light"
          }
        }
      ],
      "source": [
        "# Create input data x and output (target) data y\n",
        "N = 2000 # number of samples\n",
        "x = torch.linspace(-math.pi, math.pi, N, dtype=torch.float32)\n",
        "y = torch.sin(x);\n",
        "plt.plot(x, y);\n",
        "plt.grid();\n",
        "plt.xlabel('x');\n",
        "plt.ylabel('y = f(x)');"
      ]
    },
    {
      "cell_type": "markdown",
      "metadata": {
        "id": "J0o08nrGRqrV"
      },
      "source": [
        "## The Task\n",
        "\n",
        "* Let's assume that we do not know the function that generated the target $y$ from input $x$. That is we do not know that $y$ and $x$ are related through the function $y=sin(x)$.\n",
        "* We are just given the value pais $(x_i, y_i), i=1,\\dots,N$.\n",
        "* Our goal is find a polynomial curve that can fit the pais $(x_i, y_i)$ as accurately as possible.\n",
        "* A polynomial (of degree 3) is given by the following formula:\n",
        "$$P_3(x)= w_0 + w_1x + w_2x^2 + w_3x^3$$\n",
        "where $w_0, w_1, w_2, w_3$ are the weights (our model parameters).\n",
        "* By changing the weights different polynomial curves can be obtained!"
      ]
    },
    {
      "cell_type": "code",
      "execution_count": 4,
      "metadata": {
        "colab": {
          "base_uri": "https://localhost:8080/",
          "height": 330
        },
        "id": "5LJj570lRqrW",
        "outputId": "88b77079-2eb1-4767-ede5-6d638a72339b",
        "scrolled": true
      },
      "outputs": [
        {
          "output_type": "stream",
          "name": "stdout",
          "text": [
            "tensor(0.3661) tensor(-0.1998) tensor(1.9582) tensor(0.1843)\n",
            "tensor([14.6050, 14.5828, 14.5607,  ..., 24.6702, 24.7253, 24.7805])\n",
            "tensor([-3.1416, -3.1384, -3.1353,  ...,  3.1353,  3.1384,  3.1416])\n"
          ]
        },
        {
          "output_type": "display_data",
          "data": {
            "text/plain": [
              "<Figure size 432x288 with 1 Axes>"
            ],
            "image/png": "[encoded data removed]"
          },
          "metadata": {
            "needs_background": "light"
          }
        }
      ],
      "source": [
        "# Run this cell multiple times to see how different polynomial curves look like \n",
        "\n",
        "# Randomly initialize weights\n",
        "w0 = torch.randn((), dtype=torch.float32)\n",
        "w1 = torch.randn((), dtype=torch.float32)\n",
        "w2 = torch.randn((), dtype=torch.float32)\n",
        "w3 = torch.randn((), dtype=torch.float32)\n",
        "y_hat = w0 + w1 * x + w2 * x ** 2 + w3 * x ** 3\n",
        "print(w0,w1,w2,w3)\n",
        "print(y_hat)\n",
        "print(x)\n",
        "# Plot the polynomial curve \n",
        "plt.plot(x, y_hat);\n",
        "plt.grid();\n",
        "plt.xlabel('x');\n",
        "plt.ylabel('y = f(x)');"
      ]
    },
    {
      "cell_type": "markdown",
      "metadata": {
        "id": "V8glsfu45E_k"
      },
      "source": [
        "## Partial Derivatives of the Loss\n",
        "* We want to find the weights so that the polynomial curve becomes \"as close as possible\" to the sinusodial function. \n",
        "* \"As close as possible\" is defined with the $L_2$ loss: $$L_2=\\sum_{i=1}^N (\\tilde{y}_i - y_i)^2$$ where $\\tilde{y}_i =w_0 + w_1x_i + w_2x_i^2 + w_3x_i^3$\n",
        "* To set up an algorithm to find the weights, we need to write some code that will compute the derivative of the loss with respect to the weights.\n",
        "* But first we actually need the math formulas that express the derivative of the loss with respect to each weight. This is the subject of the first exercise.\n",
        "* Your task: calculate the partial derivative of the loss with respect to each of the weights:\n",
        "  $$\\frac{\\partial L}{\\partial w_0} = \\frac{\\partial L}{\\partial zi}$$\n",
        "  $$\\frac{\\partial L}{\\partial w_1} = \\frac{\\partial L  * xi }{\\partial zi},$$\n",
        "  $$\\frac{\\partial L}{\\partial w_2} = \\frac{\\partial L * xi ** 2}{\\partial zi},$$\n",
        "  $$\\frac{\\partial L}{\\partial w_3} = \\frac{\\partial L * xi ** 3}{\\partial zi}$$\n",
        "  with $$\\frac{\\partial L}{\\partial z_i}= ??.$$"
      ]
    },
    {
      "cell_type": "markdown",
      "metadata": {
        "id": "sq2UhDaARqrY"
      },
      "source": [
        "## The Algorithm  \n",
        "\n",
        "With the expressions derived above, we can find the weights by executing the following algorithm for 2000 iterations:\n",
        "\n",
        "- Step 1: Calculate prediction $\\tilde{y}_i, i=1,\\ldots,N$ with current weights (forward pass) \n",
        "- Step 2: Calculate the derivative of the loss with respect to $\\tilde{y}_i$ using the formula derived above.\n",
        "- Step 3: Calculate the derivative of the loss with respect to the weights using the formula derived above.\n",
        "- Step 4: Update the weights as follows:\n",
        "$$ w_0 \\leftarrow w_0 - lr \\cdot \\frac{\\partial L}{\\partial w_0},$$\n",
        "$$ w_1 \\leftarrow w_1 - lr \\cdot \\frac{\\partial L}{\\partial w_1},$$\n",
        "$$ w_2 \\leftarrow w_2 - lr \\cdot \\frac{\\partial L}{\\partial w_2},$$\n",
        "$$ w_3 \\leftarrow w_3 - lr \\cdot \\frac{\\partial L}{\\partial w_3},$$\n",
        "where lr is a constant which is called the *learning rate*. We set it to $1\\mathrm{e}{-6}$.\n"
      ]
    },
    {
      "cell_type": "code",
      "execution_count": 11,
      "metadata": {
        "id": "2msUXd-iRqra",
        "colab": {
          "base_uri": "https://localhost:8080/"
        },
        "outputId": "0c532f8d-5229-4984-d747-422db30bbff3"
      },
      "outputs": [
        {
          "output_type": "stream",
          "name": "stdout",
          "text": [
            "99 384.65643310546875\n",
            "199 355.5494079589844\n",
            "299 339.0436096191406\n",
            "399 325.2297058105469\n",
            "499 312.3764343261719\n",
            "599 300.1220703125\n",
            "699 288.37786865234375\n",
            "799 277.1104736328125\n",
            "899 266.29815673828125\n",
            "999 255.9219512939453\n",
            "1099 245.96426391601562\n",
            "1199 236.4081268310547\n",
            "1299 227.2373504638672\n",
            "1399 218.4363555908203\n",
            "1499 209.9902801513672\n",
            "1599 201.88473510742188\n",
            "1699 194.10597229003906\n",
            "1799 186.64096069335938\n",
            "1899 179.47689819335938\n",
            "1999 172.60166931152344\n",
            "Result: y = 0.07451367378234863 + 0.46859145164489746 x + -0.012854850850999355 x^2 + -0.038119520992040634 x^3\n"
          ]
        }
      ],
      "source": [
        "# Randomly initialize weights\n",
        "w0 = torch.randn((), dtype=torch.float32)\n",
        "w1 = torch.randn((), dtype=torch.float32)\n",
        "w2 = torch.randn((), dtype=torch.float32)\n",
        "w3 = torch.randn((), dtype=torch.float32)\n",
        "\n",
        "# Fill in the gaps denoned with ?? by writing your code\n",
        "lr = 1e-7 # learning rate\n",
        "for t in range(2000):\n",
        "    # Step 1. Calculate prediction y with current weights (forward pass).\n",
        "    y_hat = w0 + w1 * x + w2 * x ** 2 + w3 * x ** 3\n",
        "\n",
        "    # Compute and print loss\n",
        "    loss = (y_hat - y).pow(2).sum()\n",
        "    if t % 100 == 99:\n",
        "        print(t, loss.item())\n",
        "        \n",
        "    # Step 2. Calculate the derivative of the loss with respect to y_hat.\n",
        "    # Write your code here:\n",
        "    grad_y_hat = 2*(y_hat-y)\n",
        "    \n",
        "    # Step 3. Calculate the derivative of the loss with respect to the weights.\n",
        "    # Write your code here:\n",
        "    grad_w0 = (grad_y_hat).sum()\n",
        "    grad_w1 = (grad_y_hat*x).sum()\n",
        "    grad_w2 = (grad_y_hat*x.pow(2)).sum()\n",
        "    grad_w3 = (grad_y_hat*x.pow(3)).sum()\n",
        "    \n",
        "    # Step 4. Update the weights (using gradient descent).\n",
        "    # Write your code here:\n",
        "    w0 = w0 - lr * grad_w0 \n",
        "    w1 = w1 - lr * grad_w1\n",
        "    w2 = w2 - lr * grad_w2\n",
        "    w3 = w3 - lr * grad_w3\n",
        "\n",
        "\n",
        "print(f'Result: y = {w0.item()} + {w1.item()} x + {w2.item()} x^2 + {w3.item()} x^3')"
      ]
    },
    {
      "cell_type": "code",
      "execution_count": 8,
      "metadata": {
        "id": "y1dqH9rkRqrd",
        "colab": {
          "base_uri": "https://localhost:8080/",
          "height": 279
        },
        "outputId": "5f41b959-22a5-4796-b812-b2b7344ce712"
      },
      "outputs": [
        {
          "output_type": "display_data",
          "data": {
            "text/plain": [
              "<Figure size 432x288 with 1 Axes>"
            ],
            "image/png": "[encoded data removed]"
          },
          "metadata": {
            "needs_background": "light"
          }
        }
      ],
      "source": [
        "# Show predictions with final weights\n",
        "# This will not work unless you make the code in the previous cell work first!)\n",
        "y_hat = w0 + w1 * x + w2 * x ** 2 + w3 * x ** 3\n",
        "plt.plot(x, y, x, y_hat);\n",
        "plt.grid();\n",
        "plt.xlabel('x');\n",
        "plt.ylabel('y = f(x)');"
      ]
    },
    {
      "cell_type": "markdown",
      "metadata": {
        "id": "h06IEZM3Rqrf"
      },
      "source": [
        "## The Algorithm  using Automatic Differentiation\n",
        "\n",
        "* In the previous algorithm we had to provide mathematical formulas for the derivatives of the loss with respect to $\\tilde{y}_i$ and the weights.\n",
        "* We also had to code the formulas.\n",
        "* We can avoid all of the above using PyTorch's Automatic Differentiation.\n",
        "* Modify the previous algotithm as follows:\n",
        "    1. Initialize the weights as above but also set `requires_grad=True`. This will indicate to PyTorch that it must calculate gradients for these variables. \n",
        "    1. Calculate the `loss` and call `loss.backward()`. \n",
        "    1. The calculcated gradients for each weight are stored in .grad (for example $\\dfrac{\\partial L}{\\partial w_0}$ is stored in `w_0.grad`. Using the automatically calculated gradients update the weights as above.\n",
        "    1. Set all the gradients for the weights to zero"
      ]
    },
    {
      "cell_type": "code",
      "execution_count": 14,
      "metadata": {
        "id": "NmL4DVzDRqrg",
        "colab": {
          "base_uri": "https://localhost:8080/"
        },
        "outputId": "a55b21fc-fefe-47a1-dec5-6bf8dcf671c5"
      },
      "outputs": [
        {
          "output_type": "stream",
          "name": "stdout",
          "text": [
            "99 206.86729431152344\n",
            "199 146.10574340820312\n",
            "299 104.07705688476562\n",
            "399 74.97660064697266\n",
            "499 54.807472229003906\n",
            "599 40.8150634765625\n",
            "699 31.09870147705078\n",
            "799 24.345483779907227\n",
            "899 19.647628784179688\n",
            "999 16.376747131347656\n",
            "1099 14.097545623779297\n",
            "1199 12.508106231689453\n",
            "1299 11.398823738098145\n",
            "1399 10.624086380004883\n",
            "1499 10.082623481750488\n",
            "1599 9.7039213180542\n",
            "1699 9.438899993896484\n",
            "1799 9.253313064575195\n",
            "1899 9.123278617858887\n",
            "1999 9.032114028930664\n",
            "Result: y = -0.0146329952403903 + 0.8614864349365234 x + 0.002524434356018901 x^2 + -0.09400540590286255 x^3\n"
          ]
        }
      ],
      "source": [
        "# Modification 1: Initialize the weights as above but set requires_grad=True\n",
        "# Write your code here:\n",
        "w0 = torch.randn((), dtype=torch.float32, requires_grad=True)\n",
        "w1 = torch.randn((), dtype=torch.float32, requires_grad=True)\n",
        "w2 = torch.randn((), dtype=torch.float32, requires_grad=True)\n",
        "w3 = torch.randn((), dtype=torch.float32, requires_grad=True)\n",
        "\n",
        "# Fill in the gaps denoned with ?? by writing your code\n",
        "lr = 1e-6 # learning rate\n",
        "for t in range(2000):\n",
        "    # Calculate prediction y with current weights (forward pass).\n",
        "    y_hat = w0 + w1 * x + w2 * x ** 2 + w3 * x ** 3\n",
        "\n",
        "    # Compute and print loss\n",
        "    loss = (y_hat - y).pow(2).sum()\n",
        "    if t % 100 == 99:\n",
        "        print(t, loss.item())\n",
        "   \n",
        "    # Modification 2: call backward() on loss\n",
        "    # Write your code here:\n",
        "    loss.backward()\n",
        "    \n",
        "    # The update of the weights should not create new gradients\n",
        "    # For this reason we need to use torch.no_grad()\n",
        "    with torch.no_grad():\n",
        "        # Modification 3: Using the automatically calculated gradients update the weights as above.\n",
        "        # Write your code here:\n",
        "        w0 -= lr * w0.grad\n",
        "        w1 -= lr * w1.grad\n",
        "        w2 -= lr * w2.grad\n",
        "        w3 -= lr * w3.grad\n",
        "\n",
        "    # Modification 4: set all the gradients for the weights to zero\n",
        "    # Write your code here:\n",
        "    w0.grad.zero_()\n",
        "    w1.grad.zero_()\n",
        "    w2.grad.zero_()\n",
        "    w3.grad.zero_()\n",
        "\n",
        "print(f'Result: y = {w0.item()} + {w1.item()} x + {w2.item()} x^2 + {w3.item()} x^3')"
      ]
    },
    {
      "cell_type": "code",
      "execution_count": 15,
      "metadata": {
        "colab": {
          "base_uri": "https://localhost:8080/",
          "height": 279
        },
        "id": "O77EGRdeRqrk",
        "outputId": "58689cbb-b5b1-4c53-9a4e-5108bae753e0",
        "scrolled": true
      },
      "outputs": [
        {
          "output_type": "display_data",
          "data": {
            "text/plain": [
              "<Figure size 432x288 with 1 Axes>"
            ],
            "image/png": "[encoded data removed]"
          },
          "metadata": {
            "needs_background": "light"
          }
        }
      ],
      "source": [
        "# Show predictions with final weights\n",
        "# This will not work unless you make the code in the previous cell work first!)\n",
        "w0.detach_()\n",
        "w1.detach_()\n",
        "w2.detach_()\n",
        "w3.detach_()\n",
        "\n",
        "y_hat = w0 + w1 * x + w2 * x ** 2 + w3 * x ** 3\n",
        "plt.plot(x, y, x, y_hat);\n",
        "plt.grid();\n",
        "plt.xlabel('x');\n",
        "plt.ylabel('y = f(x)');"
      ]
    },
    {
      "cell_type": "code",
      "execution_count": null,
      "metadata": {
        "id": "KK2CcB4q5E_n"
      },
      "outputs": [],
      "source": [
        ""
      ]
    }
  ],
  "metadata": {
    "colab": {
      "collapsed_sections": [],
      "name": "Week02_Lab.ipynb",
      "provenance": [],
      "include_colab_link": true
    },
    "kernelspec": {
      "display_name": "Python 3 (ipykernel)",
      "language": "python",
      "name": "python3"
    },
    "language_info": {
      "codemirror_mode": {
        "name": "ipython",
        "version": 3
      },
      "file_extension": ".py",
      "mimetype": "text/x-python",
      "name": "python",
      "nbconvert_exporter": "python",
      "pygments_lexer": "ipython3",
      "version": "3.9.12"
    },
    "toc": {
      "base_numbering": 1,
      "nav_menu": {},
      "number_sections": false,
      "sideBar": true,
      "skip_h1_title": false,
      "title_cell": "Table of Contents",
      "title_sidebar": "Contents",
      "toc_cell": false,
      "toc_position": {},
      "toc_section_display": true,
      "toc_window_display": false
    }
  },
  "nbformat": 4,
  "nbformat_minor": 0
}